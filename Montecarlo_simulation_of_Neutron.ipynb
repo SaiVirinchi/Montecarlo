{
  "nbformat": 4,
  "nbformat_minor": 0,
  "metadata": {
    "colab": {
      "name": "Montecarlo simulation of Neutron",
      "provenance": [],
      "collapsed_sections": [],
      "authorship_tag": "ABX9TyOun7EquNQUd6wYXoYmbSOO"
    },
    "kernelspec": {
      "name": "python3",
      "display_name": "Python 3"
    }
  },
  "cells": [
    {
      "cell_type": "code",
      "metadata": {
        "id": "zN9KnLXa2S4P"
      },
      "source": [
        "%matplotlib notebook\n",
        "from scipy import random as sciran\n",
        "import random\n",
        "from scipy import stats\n",
        "import scipy\n",
        "import numpy as np\n",
        "import matplotlib.pyplot as plt"
      ],
      "execution_count": 1,
      "outputs": []
    },
    {
      "cell_type": "code",
      "metadata": {
        "id": "AutRERsv18v9"
      },
      "source": [
        ""
      ],
      "execution_count": 1,
      "outputs": []
    },
    {
      "cell_type": "code",
      "metadata": {
        "id": "ZbjbQuWSxyQD"
      },
      "source": [
        "def free_path():\n",
        "    min = 0\n",
        "    max = 1\n",
        "    xrand = sciran.uniform(min,max)\n",
        "    #value of parameter\n",
        "    k = 1/sigma_t\n",
        "\n",
        "    s = -k*np.log(xrand)\n",
        "    return s"
      ],
      "execution_count": 2,
      "outputs": []
    },
    {
      "cell_type": "code",
      "metadata": {
        "id": "NOU3ka6j1CFE"
      },
      "source": [
        "def collision():\n",
        "    ab = sciran.uniform(0,1)\n",
        "    if ab <= sigma_a/sigma_t:\n",
        "      return True\n",
        "    else:\n",
        "      return False\n",
        "    "
      ],
      "execution_count": 3,
      "outputs": []
    },
    {
      "cell_type": "code",
      "metadata": {
        "id": "HMdPtbpJ4fhT"
      },
      "source": [
        "def new_angle():\n",
        "    ang = sciran.uniform(0,pi)\n",
        "    return ang"
      ],
      "execution_count": 4,
      "outputs": []
    },
    {
      "cell_type": "code",
      "metadata": {
        "id": "AXqJOF0Q8WX1"
      },
      "source": [
        "def update_location(rnew,rold,anew):\n",
        "    rfresh = rold + rnew*np.cos(anew)\n",
        "    return rfresh"
      ],
      "execution_count": 5,
      "outputs": []
    },
    {
      "cell_type": "code",
      "metadata": {
        "id": "n4t027PN_OO_"
      },
      "source": [
        "def boundary(rfresh):\n",
        "    if rfresh > half_length:\n",
        "      return 5\n",
        "    elif rfresh < 0:\n",
        "      return 4\n",
        "    \n"
      ],
      "execution_count": 6,
      "outputs": []
    },
    {
      "cell_type": "code",
      "metadata": {
        "id": "spM0SbS_AoQ5"
      },
      "source": [
        "def cycle(): \n",
        "\n",
        "\n",
        "  #SOURCE\n",
        "  freepath = free_path()\n",
        "  angle = 0\n",
        "\n",
        "\n",
        "  position = 0\n",
        "  global right\n",
        "  global left\n",
        "  global absorb\n",
        "\n",
        "\n",
        "  position = update_location(freepath,position,angle)\n",
        "  #print(position)\n",
        "  if boundary(position) == 4:\n",
        "    left = left + 1\n",
        "    #print(\"out\",left)\n",
        "    return\n",
        "  elif boundary(position) == 5:\n",
        "    right = right + 1\n",
        "    #print(\"right\")\n",
        "    return \n",
        "  if collision():\n",
        "    absorb = absorb + 1\n",
        "    #print(\"absorb\",absorb)\n",
        "    return \n",
        "\n",
        "\n",
        "  #TRANSITION\n",
        "  while True:\n",
        "    freepath = free_path()\n",
        "    angle = new_angle()\n",
        "    position = update_location(freepath,position,angle)\n",
        "    #print(\"lol\", j)\n",
        "    #print(position)\n",
        "    if boundary(position) == 4:\n",
        "      left = left + 1\n",
        "      #print(\"out2\",left)\n",
        "      return\n",
        "    elif boundary(position) == 5:\n",
        "      right = right + 1\n",
        "      #print(\"out3\",right)\n",
        "      return \n",
        "    if collision():\n",
        "      absorb = absorb + 1\n",
        "      #print(\"absorb2\",absorb)\n",
        "      return\n",
        "\n",
        "  \n",
        "  "
      ],
      "execution_count": 7,
      "outputs": []
    },
    {
      "cell_type": "code",
      "metadata": {
        "id": "JE_qyWdSvpy7"
      },
      "source": [
        "def simul(): \n",
        "  \n",
        "  for i in range(N):\n",
        "    cycle()\n",
        "    #print(\"Interation:\",i)\n",
        "\n",
        "  #print(\"left: \",left)\n",
        "  #print(\"right: \",right)\n",
        "  #print(\"absorb: \", absorb)\n",
        "  global Data \n",
        "  Data = np.append(Data,[[left,right,absorb]],0)\n",
        "    "
      ],
      "execution_count": 8,
      "outputs": []
    },
    {
      "cell_type": "code",
      "metadata": {
        "id": "SRg2bM51nbNx"
      },
      "source": [
        "\n",
        "\n",
        "def plott(M):\n",
        "  param = stats.norm.fit(M) # distribution fitting\n",
        "\n",
        "  # now, param[0] and param[1] are the mean and \n",
        "  # the standard deviation of the fitted distribution\n",
        "  #x = linspace(-5,5,100)\n",
        "  domain = np.linspace(np.min(M),np.max(M))\n",
        "  x = domain\n",
        "  # fitted distribution\n",
        "  pdf_fitted = stats.norm.pdf(domain,loc=param[0],scale=param[1])\n",
        "  # original distribution\n",
        "  pdf = stats.norm.pdf(x)\n",
        "\n",
        "  plt.title('Normal distribution')\n",
        "  plt.plot(x,pdf_fitted,)\n",
        "  plt.hist(M,domain,ec='black',density=1,alpha=.3)\n",
        "  plt.show()"
      ],
      "execution_count": 9,
      "outputs": []
    },
    {
      "cell_type": "code",
      "metadata": {
        "id": "njXDciBuExCZ",
        "outputId": "b4e22dac-0307-4c82-fe39-6edf0c7c4ac4",
        "colab": {
          "base_uri": "https://localhost:8080/",
          "height": 826
        }
      },
      "source": [
        "#global variables\n",
        "sigma_t = 3 #Σt\n",
        "sigma_a = 1 #Σa ratio\n",
        "interation = 1000\n",
        "half_length = 0.5\n",
        "\n",
        "pi = np.pi\n",
        "\n",
        "N = interation \n",
        "\n",
        "Data = [[0,0,0]]\n",
        "\n",
        "\n",
        "\n",
        "for j in range(1000):\n",
        "  right = 0\n",
        "  left = 0\n",
        "  absorb = 0\n",
        "  simul()\n",
        "\n",
        "Data = np.delete(Data,0,0)\n",
        "\n",
        "Left_mean = np.mean(Data[:,0])\n",
        "Right_mean = np.mean(Data[:,1])\n",
        "Absorb_mean = np.mean(Data[:,2])\n",
        "Left_var = np.var(Data[:,0])\n",
        "Right_var = np.var(Data[:,1])\n",
        "Absorb_var = np.var(Data[:,2])\n",
        "\n",
        "Ratio_abs = Absorb_mean/1000  \n",
        "\n",
        "print(Ratio_abs)\n",
        "\n",
        "for w in range(3):\n",
        "  plott(Data[:,w])\n"
      ],
      "execution_count": 15,
      "outputs": [
        {
          "output_type": "stream",
          "text": [
            "0.451384\n"
          ],
          "name": "stdout"
        },
        {
          "output_type": "display_data",
          "data": {
            "image/png": "[encoded data removed]",
            "text/plain": [
              "<Figure size 432x288 with 1 Axes>"
            ]
          },
          "metadata": {
            "tags": [],
            "needs_background": "light"
          }
        },
        {
          "output_type": "display_data",
          "data": {
            "image/png": "[encoded data removed]",
            "text/plain": [
              "<Figure size 432x288 with 1 Axes>"
            ]
          },
          "metadata": {
            "tags": [],
            "needs_background": "light"
          }
        },
        {
          "output_type": "display_data",
          "data": {
            "image/png": "[encoded data removed]",
            "text/plain": [
              "<Figure size 432x288 with 1 Axes>"
            ]
          },
          "metadata": {
            "tags": [],
            "needs_background": "light"
          }
        }
      ]
    },
    {
      "cell_type": "code",
      "metadata": {
        "id": "CQKNyaUrj8Cj"
      },
      "source": [
        ""
      ],
      "execution_count": null,
      "outputs": []
    },
    {
      "cell_type": "code",
      "metadata": {
        "id": "K5YdnQWBn1Jq",
        "outputId": "20e1c3fc-54c0-4320-e8ea-3c7e08bd3002",
        "colab": {
          "base_uri": "https://localhost:8080/"
        }
      },
      "source": [
        "print(Data[:,2])"
      ],
      "execution_count": 14,
      "outputs": [
        {
          "output_type": "stream",
          "text": [
            "[463 439 460 463 462 467 450 471 461 452 451 459 468 440 446 448 452 448\n",
            " 457 472 437 471 432 445 452 417 480 466 423 478 462 450 425 478 454 460\n",
            " 435 457 465 487 473 470 449 487 467 416 450 473 450 466 454 444 443 467\n",
            " 441 450 435 459 427 437 463 435 449 441 443 459 445 446 461 465 439 467\n",
            " 481 449 438 449 445 469 465 429 426 456 458 455 444 438 446 466 451 451\n",
            " 441 467 447 455 443 482 456 450 423 447 466 455 454 433 450 471 463 479\n",
            " 475 449 468 452 475 418 449 440 431 445 468 430 431 451 456 460 445 432\n",
            " 450 436 467 449 450 470 449 450 460 442 471 454 432 462 444 484 438 466\n",
            " 445 448 445 480 449 429 461 452 453 455 455 457 457 440 478 450 470 465\n",
            " 436 462 447 443 462 428 421 457 437 454 458 422 459 455 449 479 434 439\n",
            " 449 455 461 435 443 451 426 457 441 441 463 437 450 455 452 455 464 470\n",
            " 443 431 427 441 487 460 423 473 440 450 454 464 437 438 466 432 453 456\n",
            " 449 421 459 436 446 422 449 441 453 422 449 462 461 450 476 443 438 449\n",
            " 458 449 459 458 428 433 460 422 440 442 460 453 456 439 505 463 463 447\n",
            " 441 452 417 452 454 487 436 453 470 447 465 457 458 437 465 443 447 458\n",
            " 435 464 435 462 455 440 434 477 457 478 420 436 442 451 443 435 427 448\n",
            " 446 473 448 454 479 436 427 459 446 439 446 455 460 440 478 458 420 453\n",
            " 445 461 456 438 455 462 460 445 433 433 443 463 461 434 436 459 445 428\n",
            " 437 467 450 434 427 463 455 439 450 474 428 440 448 442 463 461 448 458\n",
            " 435 454 447 444 481 447 457 497 449 448 461 450 419 478 433 446 482 482\n",
            " 425 457 472 455 467 441 464 452 450 428 456 426 447 431 480 433 474 461\n",
            " 423 424 438 449 446 459 462 465 422 437 456 451 435 452 442 430 470 445\n",
            " 454 467 415 439 486 466 452 441 432 439 441 430 443 464 453 467 425 451\n",
            " 456 426 436 460 456 451 465 466 447 449 451 465 433 444 447 455 460 469\n",
            " 480 445 455 485 437 418 435 467 461 460 439 477 442 445 430 461 429 468\n",
            " 450 434 468 437 470 447 467 441 437 433 447 427 452 436 457 441 433 423\n",
            " 437 429 470 458 468 448 422 467 437 438 430 424 447 444 461 485 449 447\n",
            " 429 445 441 457 448 431 465 441 465 446 459 457 453 434 470 452 449 447\n",
            " 459 448 464 458 435 447 457 439 452 439 438 449 443 436 440 471 436 453\n",
            " 475 449 436 433 440 450 477 473 448 454 459 439 430 435 460 455 460 439\n",
            " 445 458 429 436 473 453 410 459 438 466 452 458 455 433 434 457 456 447\n",
            " 491 457 456 448 436 439 448 467 452 458 444 469 437 429 453 430 462 477\n",
            " 465 454 439 456 464 445 440 451 474 449 458 480 447 427 440 434 469 462\n",
            " 453 439 451 456 481 436 410 452 468 461 430 470 440 449 454 441 463 442\n",
            " 444 475 442 451 465 441 462 455 464 435 450 460 413 436 441 437 466 470\n",
            " 457 483 429 455 442 454 457 448 484 446 440 432 458 463 463 462 450 436\n",
            " 493 468 458 464 423 451 431 443 460 449 436 451 432 440 428 458 418 468\n",
            " 434 455 432 446 462 476 465 446 436 457 462 470 477 442 440 455 463 460\n",
            " 458 454 442 456 442 444 448 465 444 430 470 464 453 456 446 431 452 463\n",
            " 456 467 443 445 442 443 471 462 453 462 451 435 425 442 455 430 462 436\n",
            " 449 446 459 465 447 424 474 447 495 461 430 455 449 460 426 435 442 449\n",
            " 445 447 451 444 436 445 442 439 434 444 441 432 463 435 450 451 451 464\n",
            " 464 445 431 431 462 441 422 432 473 426 443 452 447 427 474 446 466 451\n",
            " 454 482 471 464 444 421 458 481 413 448 454 461 441 464 503 445 449 434\n",
            " 460 461 458 451 457 448 475 443 440 412 432 431 456 458 437 452 475 472\n",
            " 480 466 464 434 466 452 453 446 463 466 431 435 452 443 466 438 430 446\n",
            " 471 460 436 443 454 424 457 440 446 443 457 426 463 453 430 480 453 450\n",
            " 461 442 445 461 458 464 460 452 470 445 434 446 440 446 448 459 440 479\n",
            " 446 445 449 434 445 447 468 429 455 464 453 467 448 450 463 454 444 468\n",
            " 481 439 465 445 477 466 452 485 447 455 436 486 464 461 454 447 453 425\n",
            " 456 464 454 444 451 456 481 451 444 453 458 448 479 455 459 433 468 454\n",
            " 418 484 452 459 444 459 444 459 462 453 456 425 457 425 435 466 456 462\n",
            " 454 465 439 405 449 425 404 434 445 440 458 433 453 486 435 455 450 445\n",
            " 443 434 445 455 444 452 460 439 471 463 469 456 478 433 440 449 436 428\n",
            " 473 456 423 450 429 455 434 440 453 433 450 433 488 457 457 446 456 460\n",
            " 464 450 464 467 446 463 458 451 426 446]\n"
          ],
          "name": "stdout"
        }
      ]
    }
  ]
}