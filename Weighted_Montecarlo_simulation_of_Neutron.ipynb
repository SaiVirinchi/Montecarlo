{
  "nbformat": 4,
  "nbformat_minor": 0,
  "metadata": {
    "colab": {
      "name": "Weighted Montecarlo simulation of Neutron",
      "provenance": [],
      "collapsed_sections": [],
      "authorship_tag": "ABX9TyOyUHjeWc9H4YMox1F+H0kr",
      "include_colab_link": true
    },
    "kernelspec": {
      "name": "python3",
      "display_name": "Python 3"
    }
  },
  "cells": [
    {
      "cell_type": "markdown",
      "metadata": {
        "id": "view-in-github",
        "colab_type": "text"
      },
      "source": [
        "<a href=\"https://colab.research.google.com/github/SaiVirinchi/Montecarlo/blob/master/Weighted_Montecarlo_simulation_of_Neutron.ipynb\" target=\"_parent\"><img src=\"https://colab.research.google.com/assets/colab-badge.svg\" alt=\"Open In Colab\"/></a>"
      ]
    },
    {
      "cell_type": "code",
      "metadata": {
        "id": "zN9KnLXa2S4P"
      },
      "source": [
        "%matplotlib notebook\n",
        "from scipy import random as sciran\n",
        "import random\n",
        "from scipy import stats\n",
        "import scipy\n",
        "import numpy as np\n",
        "import matplotlib.pyplot as plt"
      ],
      "execution_count": 1,
      "outputs": []
    },
    {
      "cell_type": "code",
      "metadata": {
        "id": "ZbjbQuWSxyQD"
      },
      "source": [
        "def free_path():\n",
        "    min = 0\n",
        "    max = 1\n",
        "    xrand = sciran.uniform(min,max)\n",
        "    #value of parameter\n",
        "    k = 1/sigma_t\n",
        "\n",
        "    s = -k*np.log(xrand)\n",
        "    return s"
      ],
      "execution_count": 2,
      "outputs": []
    },
    {
      "cell_type": "code",
      "metadata": {
        "id": "NOU3ka6j1CFE"
      },
      "source": [
        "def collision():\n",
        "    ab = sciran.uniform(0,1)\n",
        "    if ab <= sigma_a/sigma_t:\n",
        "      return True\n",
        "    else:\n",
        "      return False\n",
        "    "
      ],
      "execution_count": 3,
      "outputs": []
    },
    {
      "cell_type": "code",
      "metadata": {
        "id": "HMdPtbpJ4fhT"
      },
      "source": [
        "def new_angle():\n",
        "    ang = sciran.uniform(0,pi)\n",
        "    return ang"
      ],
      "execution_count": 4,
      "outputs": []
    },
    {
      "cell_type": "code",
      "metadata": {
        "id": "AXqJOF0Q8WX1"
      },
      "source": [
        "def update_location(rnew,rold,anew):\n",
        "    rfresh = rold + rnew*np.cos(anew)\n",
        "    return rfresh"
      ],
      "execution_count": 5,
      "outputs": []
    },
    {
      "cell_type": "code",
      "metadata": {
        "id": "n4t027PN_OO_"
      },
      "source": [
        "def boundary(rfresh):\n",
        "    if rfresh > half_length:\n",
        "      return 5\n",
        "    elif rfresh < 0:\n",
        "      return 4"
      ],
      "execution_count": 6,
      "outputs": []
    },
    {
      "cell_type": "code",
      "metadata": {
        "id": "spM0SbS_AoQ5"
      },
      "source": [
        "def cycle(): \n",
        "\n",
        "\n",
        "  #SOURCE\n",
        "\n",
        "  position = 0\n",
        "  angle = 0\n",
        "  weight = 1\n",
        "\n",
        "  global right\n",
        "  global left\n",
        "  global absorb\n",
        "\n",
        "  #TRANSITION\n",
        "  while True:\n",
        "    freepath = free_path()\n",
        "    position = update_location(freepath,position,angle)\n",
        "\n",
        "    if boundary(position) == 4:\n",
        "      left = left + weight\n",
        "      #print(\"out2\",left)\n",
        "      return\n",
        "    elif boundary(position) == 5:\n",
        "      right = right + weight\n",
        "      #print(\"out3\",right)\n",
        "      return \n",
        "    \n",
        "    weight = weight*((sigma_t-sigma_a)/(sigma_t))\n",
        "\n",
        "    absorb = absorb + weight*(sigma_a/sigma_t)\n",
        "    angle = new_angle()\n",
        "  \n",
        "  "
      ],
      "execution_count": 7,
      "outputs": []
    },
    {
      "cell_type": "code",
      "metadata": {
        "id": "JE_qyWdSvpy7"
      },
      "source": [
        "def simul(): \n",
        "  \n",
        "  for i in range(N):\n",
        "    cycle()\n",
        "\n",
        "  global Data \n",
        "  Data = np.append(Data,[[left,right,absorb]],0)\n",
        "    "
      ],
      "execution_count": 8,
      "outputs": []
    },
    {
      "cell_type": "code",
      "metadata": {
        "id": "SRg2bM51nbNx"
      },
      "source": [
        "\n",
        "\n",
        "def plott(M):\n",
        "  param = stats.norm.fit(M) # distribution fitting\n",
        "\n",
        "  # now, param[0] and param[1] are the mean and \n",
        "  # the standard deviation of the fitted distribution\n",
        "  #x = linspace(-5,5,100)\n",
        "  domain = np.linspace(np.min(M),np.max(M))\n",
        "  x = domain\n",
        "  # fitted distribution\n",
        "  pdf_fitted = stats.norm.pdf(domain,loc=param[0],scale=param[1])\n",
        "  # original distribution\n",
        "  pdf = stats.norm.pdf(x)\n",
        "\n",
        "  plt.title('Normal distribution')\n",
        "  plt.plot(x,pdf_fitted,)\n",
        "  plt.hist(M,domain,ec='black',density=1,alpha=.3)\n",
        "  plt.show()"
      ],
      "execution_count": 9,
      "outputs": []
    },
    {
      "cell_type": "code",
      "metadata": {
        "id": "njXDciBuExCZ",
        "outputId": "cc0347fa-4512-4f47-8d1b-18ceddf4ef3a",
        "colab": {
          "base_uri": "https://localhost:8080/",
          "height": 826
        }
      },
      "source": [
        "#global variables\n",
        "sigma_t = 3 #Σt\n",
        "sigma_a = 1 #Σa ratio\n",
        "interation = 1000\n",
        "half_length = 0.5\n",
        "\n",
        "pi = np.pi\n",
        "\n",
        "N = interation \n",
        "\n",
        "Data = [[0,0,0]]\n",
        "\n",
        "\n",
        "\n",
        "for j in range(1000):\n",
        "  right = 0\n",
        "  left = 0\n",
        "  absorb = 0\n",
        "  simul()\n",
        "\n",
        "Data = np.delete(Data,0,0)\n",
        "\n",
        "Left_mean = np.mean(Data[:,0])\n",
        "Right_mean = np.mean(Data[:,1])\n",
        "Absorb_mean = np.mean(Data[:,2])\n",
        "Left_var = np.var(Data[:,0])\n",
        "Right_var = np.var(Data[:,1])\n",
        "Absorb_var = np.var(Data[:,2])\n",
        "\n",
        "Ratio_abs = Absorb_mean/1000  \n",
        "\n",
        "print(Ratio_abs)\n",
        "\n",
        "for w in range(3):\n",
        "  plott(Data[:,w])\n"
      ],
      "execution_count": 10,
      "outputs": [
        {
          "output_type": "stream",
          "text": [
            "0.3007959686968763\n"
          ],
          "name": "stdout"
        },
        {
          "output_type": "display_data",
          "data": {
            "image/png": "[encoded data removed]",
            "text/plain": [
              "<Figure size 432x288 with 1 Axes>"
            ]
          },
          "metadata": {
            "tags": [],
            "needs_background": "light"
          }
        },
        {
          "output_type": "display_data",
          "data": {
            "image/png": "[encoded data removed]",
            "text/plain": [
              "<Figure size 432x288 with 1 Axes>"
            ]
          },
          "metadata": {
            "tags": [],
            "needs_background": "light"
          }
        },
        {
          "output_type": "display_data",
          "data": {
            "image/png": "[encoded data removed]",
            "text/plain": [
              "<Figure size 432x288 with 1 Axes>"
            ]
          },
          "metadata": {
            "tags": [],
            "needs_background": "light"
          }
        }
      ]
    },
    {
      "cell_type": "code",
      "metadata": {
        "id": "CQKNyaUrj8Cj"
      },
      "source": [
        ""
      ],
      "execution_count": 10,
      "outputs": []
    }
  ]
}